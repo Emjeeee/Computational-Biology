{
 "cells": [
  {
   "cell_type": "code",
   "execution_count": null,
   "metadata": {},
   "outputs": [],
   "source": [
    "# Session 1: Sequence Analysis using BioPython\n",
    "# [] Install\n",
    "# [] Import\n",
    "# [] Methods and attributes\n",
    "\n",
    "# [] Create sequence\n",
    "\n",
    "# Sequence manipulation\n",
    "# [] Length of sequence\n",
    "# [] Slicing, reverse\n",
    "# [] Join sequence\n",
    "# [] Counting nucleotide/codon\n",
    "# [] Finding nucleotide/codon\n",
    "    # - Find\n",
    "    # - Index\n",
    "    # - Function\n",
    "# [] Plotting"
   ]
  },
  {
   "cell_type": "code",
   "execution_count": 2,
   "metadata": {},
   "outputs": [
    {
     "name": "stdout",
     "output_type": "stream",
     "text": [
      "Collecting Biopython\n",
      "  Downloading biopython-1.81-cp311-cp311-win_amd64.whl (2.7 MB)\n",
      "                                              0.0/2.7 MB ? eta -:--:--\n",
      "     --                                       0.2/2.7 MB 4.6 MB/s eta 0:00:01\n",
      "     ----                                     0.3/2.7 MB 5.9 MB/s eta 0:00:01\n",
      "     -----                                    0.4/2.7 MB 3.2 MB/s eta 0:00:01\n",
      "     ------                                   0.5/2.7 MB 2.8 MB/s eta 0:00:01\n",
      "     --------                                 0.6/2.7 MB 2.8 MB/s eta 0:00:01\n",
      "     ----------                               0.7/2.7 MB 2.6 MB/s eta 0:00:01\n",
      "     -----------                              0.8/2.7 MB 2.4 MB/s eta 0:00:01\n",
      "     ------------                             0.9/2.7 MB 2.4 MB/s eta 0:00:01\n",
      "     --------------                           1.0/2.7 MB 2.4 MB/s eta 0:00:01\n",
      "     ---------------                          1.0/2.7 MB 2.4 MB/s eta 0:00:01\n",
      "     ----------------                         1.1/2.7 MB 2.3 MB/s eta 0:00:01\n",
      "     ------------------                       1.2/2.7 MB 2.2 MB/s eta 0:00:01\n",
      "     -------------------                      1.3/2.7 MB 2.2 MB/s eta 0:00:01\n",
      "     --------------------                     1.4/2.7 MB 2.2 MB/s eta 0:00:01\n",
      "     ---------------------                    1.5/2.7 MB 2.2 MB/s eta 0:00:01\n",
      "     -----------------------                  1.6/2.7 MB 2.2 MB/s eta 0:00:01\n",
      "     ------------------------                 1.7/2.7 MB 2.2 MB/s eta 0:00:01\n",
      "     -------------------------                1.8/2.7 MB 2.1 MB/s eta 0:00:01\n",
      "     ---------------------------              1.8/2.7 MB 2.1 MB/s eta 0:00:01\n",
      "     ----------------------------             1.9/2.7 MB 2.1 MB/s eta 0:00:01\n",
      "     -----------------------------            2.0/2.7 MB 2.1 MB/s eta 0:00:01\n",
      "     -------------------------------          2.1/2.7 MB 2.1 MB/s eta 0:00:01\n",
      "     --------------------------------         2.2/2.7 MB 2.1 MB/s eta 0:00:01\n",
      "     ---------------------------------        2.3/2.7 MB 2.1 MB/s eta 0:00:01\n",
      "     -----------------------------------      2.4/2.7 MB 2.1 MB/s eta 0:00:01\n",
      "     ------------------------------------     2.5/2.7 MB 2.1 MB/s eta 0:00:01\n",
      "     -------------------------------------    2.5/2.7 MB 2.1 MB/s eta 0:00:01\n",
      "     ---------------------------------------  2.7/2.7 MB 2.1 MB/s eta 0:00:01\n",
      "     ---------------------------------------- 2.7/2.7 MB 2.0 MB/s eta 0:00:00\n",
      "Requirement already satisfied: numpy in c:\\python311\\lib\\site-packages (from Biopython) (1.24.2)\n",
      "Installing collected packages: Biopython\n",
      "Successfully installed Biopython-1.81\n",
      "Note: you may need to restart the kernel to use updated packages.\n"
     ]
    }
   ],
   "source": [
    "# [] Install\n",
    "%pip install Biopython"
   ]
  },
  {
   "cell_type": "code",
   "execution_count": 3,
   "metadata": {},
   "outputs": [],
   "source": [
    "# [] Import\n",
    "import Bio"
   ]
  },
  {
   "cell_type": "code",
   "execution_count": 4,
   "metadata": {},
   "outputs": [
    {
     "data": {
      "text/plain": [
       "['BiopythonDeprecationWarning',\n",
       " 'BiopythonExperimentalWarning',\n",
       " 'BiopythonParserWarning',\n",
       " 'BiopythonWarning',\n",
       " 'MissingExternalDependencyError',\n",
       " 'MissingPythonDependencyError',\n",
       " 'StreamModeError',\n",
       " '__builtins__',\n",
       " '__cached__',\n",
       " '__doc__',\n",
       " '__file__',\n",
       " '__loader__',\n",
       " '__name__',\n",
       " '__package__',\n",
       " '__path__',\n",
       " '__spec__',\n",
       " '__version__',\n",
       " '_parent_dir',\n",
       " 'os',\n",
       " 'warnings']"
      ]
     },
     "execution_count": 4,
     "metadata": {},
     "output_type": "execute_result"
    }
   ],
   "source": [
    "# [] Methods and attributes\n",
    "dir(Bio)"
   ]
  },
  {
   "cell_type": "code",
   "execution_count": 5,
   "metadata": {},
   "outputs": [],
   "source": [
    "# [] Create sequence\n",
    "from Bio.Seq import Seq"
   ]
  },
  {
   "cell_type": "code",
   "execution_count": 6,
   "metadata": {},
   "outputs": [
    {
     "data": {
      "text/plain": [
       "['__abstractmethods__',\n",
       " '__add__',\n",
       " '__array_ufunc__',\n",
       " '__bytes__',\n",
       " '__class__',\n",
       " '__contains__',\n",
       " '__delattr__',\n",
       " '__dict__',\n",
       " '__dir__',\n",
       " '__doc__',\n",
       " '__eq__',\n",
       " '__format__',\n",
       " '__ge__',\n",
       " '__getattribute__',\n",
       " '__getitem__',\n",
       " '__getstate__',\n",
       " '__gt__',\n",
       " '__hash__',\n",
       " '__imul__',\n",
       " '__init__',\n",
       " '__init_subclass__',\n",
       " '__iter__',\n",
       " '__le__',\n",
       " '__len__',\n",
       " '__lt__',\n",
       " '__module__',\n",
       " '__mul__',\n",
       " '__ne__',\n",
       " '__new__',\n",
       " '__radd__',\n",
       " '__reduce__',\n",
       " '__reduce_ex__',\n",
       " '__repr__',\n",
       " '__rmul__',\n",
       " '__setattr__',\n",
       " '__sizeof__',\n",
       " '__slots__',\n",
       " '__str__',\n",
       " '__subclasshook__',\n",
       " '__weakref__',\n",
       " '_abc_impl',\n",
       " '_data',\n",
       " 'back_transcribe',\n",
       " 'complement',\n",
       " 'complement_rna',\n",
       " 'count',\n",
       " 'count_overlap',\n",
       " 'defined',\n",
       " 'defined_ranges',\n",
       " 'endswith',\n",
       " 'find',\n",
       " 'index',\n",
       " 'islower',\n",
       " 'isupper',\n",
       " 'join',\n",
       " 'lower',\n",
       " 'lstrip',\n",
       " 'replace',\n",
       " 'reverse_complement',\n",
       " 'reverse_complement_rna',\n",
       " 'rfind',\n",
       " 'rindex',\n",
       " 'rsplit',\n",
       " 'rstrip',\n",
       " 'split',\n",
       " 'startswith',\n",
       " 'strip',\n",
       " 'transcribe',\n",
       " 'translate',\n",
       " 'ungap',\n",
       " 'upper']"
      ]
     },
     "execution_count": 6,
     "metadata": {},
     "output_type": "execute_result"
    }
   ],
   "source": [
    "# Method dari library Seq\n",
    "dir(Seq)"
   ]
  },
  {
   "cell_type": "code",
   "execution_count": 9,
   "metadata": {},
   "outputs": [
    {
     "name": "stdout",
     "output_type": "stream",
     "text": [
      "CGATCGATCGAT\n",
      "CGAUCGAUCGAU\n",
      "MIS\n"
     ]
    }
   ],
   "source": [
    "# Pembuatan sequence\n",
    "seq_dna = Seq('CGATCGATCGAT')\n",
    "seq_rna = Seq('CGAUCGAUCGAU')\n",
    "seq_protein = Seq('MIS')\n",
    "\n",
    "seq_dna\n",
    "seq_rna\n",
    "seq_protein\n",
    "print(seq_dna)\n",
    "print(seq_rna)\n",
    "print(seq_protein)"
   ]
  },
  {
   "cell_type": "code",
   "execution_count": 13,
   "metadata": {},
   "outputs": [
    {
     "data": {
      "text/plain": [
       "12"
      ]
     },
     "execution_count": 13,
     "metadata": {},
     "output_type": "execute_result"
    }
   ],
   "source": [
    "# [] Length of sequence\n",
    "len(seq_dna) # Bisa seperti ini\n",
    "len('CGATCGATCGAT') # Bisa seperti ini"
   ]
  },
  {
   "cell_type": "code",
   "execution_count": 27,
   "metadata": {},
   "outputs": [
    {
     "data": {
      "text/plain": [
       "Seq('CGATCGATCGA')"
      ]
     },
     "execution_count": 27,
     "metadata": {},
     "output_type": "execute_result"
    }
   ],
   "source": [
    "# [] Slicing, reverse\n",
    "# Slicing\n",
    "# Variable[idx_awal:idx_akhir-1:lompatan]\n",
    "seq_dna[1:6:2] # mulai dari index 1 sampai index 7-1 dengan lompatan 2\n",
    "seq_dna[:12:] # mulai dari index 0 sampai index 13-1"
   ]
  },
  {
   "cell_type": "code",
   "execution_count": 20,
   "metadata": {},
   "outputs": [
    {
     "data": {
      "text/plain": [
       "Seq('TAGCTAGCTAGC')"
      ]
     },
     "execution_count": 20,
     "metadata": {},
     "output_type": "execute_result"
    }
   ],
   "source": [
    "# Reverse\n",
    "seq_dna[::-1]"
   ]
  },
  {
   "cell_type": "code",
   "execution_count": 22,
   "metadata": {},
   "outputs": [
    {
     "data": {
      "text/plain": [
       "Seq('CGATCAGC')"
      ]
     },
     "execution_count": 22,
     "metadata": {},
     "output_type": "execute_result"
    }
   ],
   "source": [
    "# [] Join sequence\n",
    "seq_dna = Seq('CGATCGATCGAT')\n",
    "seq_dna2 = Seq('TAGCTAGC')\n",
    "\n",
    "seq_dna + seq_dna2\n",
    "# Combine slicing and join\n",
    "seq_dna[:5] + seq_dna2[1:4]"
   ]
  },
  {
   "cell_type": "code",
   "execution_count": 23,
   "metadata": {},
   "outputs": [
    {
     "data": {
      "text/plain": [
       "3"
      ]
     },
     "execution_count": 23,
     "metadata": {},
     "output_type": "execute_result"
    }
   ],
   "source": [
    "# Counting nucleotide/codon\n",
    "seq_rna = Seq('CGAUCGAUCGAU')\n",
    "\n",
    "# menghitung jumlah C dalam rna\n",
    "seq_rna.count('C')"
   ]
  },
  {
   "cell_type": "code",
   "execution_count": 24,
   "metadata": {},
   "outputs": [
    {
     "data": {
      "text/plain": [
       "3"
      ]
     },
     "execution_count": 24,
     "metadata": {},
     "output_type": "execute_result"
    }
   ],
   "source": [
    "seq_rna.count('CGA')"
   ]
  },
  {
   "cell_type": "code",
   "execution_count": 25,
   "metadata": {},
   "outputs": [
    {
     "data": {
      "text/plain": [
       "2"
      ]
     },
     "execution_count": 25,
     "metadata": {},
     "output_type": "execute_result"
    }
   ],
   "source": [
    "# [] Finding nucleotide/codon\n",
    "# Find\n",
    "# mencari dari kiri ke kanan\n",
    "seq_rna.find('A') # output adalah lokasi index huruf yg dicari"
   ]
  },
  {
   "cell_type": "code",
   "execution_count": 26,
   "metadata": {},
   "outputs": [
    {
     "data": {
      "text/plain": [
       "10"
      ]
     },
     "execution_count": 26,
     "metadata": {},
     "output_type": "execute_result"
    }
   ],
   "source": [
    "# mencari dari kanan ke kiri\n",
    "seq_rna.rfind('A')"
   ]
  },
  {
   "cell_type": "code",
   "execution_count": 29,
   "metadata": {},
   "outputs": [
    {
     "data": {
      "text/plain": [
       "3"
      ]
     },
     "execution_count": 29,
     "metadata": {},
     "output_type": "execute_result"
    }
   ],
   "source": [
    "# Index\n",
    "# mencari dari kiri ke kanan\n",
    "seq_rna.index('U')"
   ]
  },
  {
   "cell_type": "code",
   "execution_count": 30,
   "metadata": {},
   "outputs": [
    {
     "data": {
      "text/plain": [
       "11"
      ]
     },
     "execution_count": 30,
     "metadata": {},
     "output_type": "execute_result"
    }
   ],
   "source": [
    "# mencari dari kanan ke kiri\n",
    "seq_rna.rindex('U')"
   ]
  },
  {
   "cell_type": "code",
   "execution_count": 31,
   "metadata": {},
   "outputs": [
    {
     "data": {
      "text/plain": [
       "-1"
      ]
     },
     "execution_count": 31,
     "metadata": {},
     "output_type": "execute_result"
    }
   ],
   "source": [
    "seq_rna2 = Seq('CGACGACGA')\n",
    "seq_rna2.find('U') # kalau ga ketemu di dalam sequence output -1"
   ]
  },
  {
   "cell_type": "code",
   "execution_count": 32,
   "metadata": {},
   "outputs": [
    {
     "ename": "ValueError",
     "evalue": "subsection not found",
     "output_type": "error",
     "traceback": [
      "\u001b[1;31m---------------------------------------------------------------------------\u001b[0m",
      "\u001b[1;31mValueError\u001b[0m                                Traceback (most recent call last)",
      "Cell \u001b[1;32mIn[32], line 1\u001b[0m\n\u001b[1;32m----> 1\u001b[0m seq_rna2\u001b[39m.\u001b[39;49mindex(\u001b[39m'\u001b[39;49m\u001b[39mU\u001b[39;49m\u001b[39m'\u001b[39;49m)\n",
      "File \u001b[1;32mc:\\Python311\\Lib\\site-packages\\Bio\\Seq.py:868\u001b[0m, in \u001b[0;36m_SeqAbstractBaseClass.index\u001b[1;34m(self, sub, start, end)\u001b[0m\n\u001b[0;32m    863\u001b[0m \u001b[39melif\u001b[39;00m \u001b[39mnot\u001b[39;00m \u001b[39misinstance\u001b[39m(sub, (\u001b[39mbytes\u001b[39m, \u001b[39mbytearray\u001b[39m)):\n\u001b[0;32m    864\u001b[0m     \u001b[39mraise\u001b[39;00m \u001b[39mTypeError\u001b[39;00m(\n\u001b[0;32m    865\u001b[0m         \u001b[39m\"\u001b[39m\u001b[39ma Seq, MutableSeq, str, bytes, or bytearray object is required, not \u001b[39m\u001b[39m'\u001b[39m\u001b[39m%s\u001b[39;00m\u001b[39m'\u001b[39m\u001b[39m\"\u001b[39m\n\u001b[0;32m    866\u001b[0m         \u001b[39m%\u001b[39m \u001b[39mtype\u001b[39m(sub)\n\u001b[0;32m    867\u001b[0m     )\n\u001b[1;32m--> 868\u001b[0m \u001b[39mreturn\u001b[39;00m \u001b[39mself\u001b[39;49m\u001b[39m.\u001b[39;49m_data\u001b[39m.\u001b[39;49mindex(sub, start, end)\n",
      "\u001b[1;31mValueError\u001b[0m: subsection not found"
     ]
    }
   ],
   "source": [
    "seq_rna2.index('U') # kalau ga ketemu di dalam sequence output error"
   ]
  },
  {
   "cell_type": "code",
   "execution_count": 33,
   "metadata": {},
   "outputs": [],
   "source": [
    "from Bio.SeqUtils import nt_search"
   ]
  },
  {
   "cell_type": "code",
   "execution_count": 34,
   "metadata": {},
   "outputs": [
    {
     "ename": "KeyError",
     "evalue": "'U'",
     "output_type": "error",
     "traceback": [
      "\u001b[1;31m---------------------------------------------------------------------------\u001b[0m",
      "\u001b[1;31mKeyError\u001b[0m                                  Traceback (most recent call last)",
      "Cell \u001b[1;32mIn[34], line 5\u001b[0m\n\u001b[0;32m      2\u001b[0m sub_seq \u001b[39m=\u001b[39m Seq(\u001b[39m'\u001b[39m\u001b[39mAUG\u001b[39m\u001b[39m'\u001b[39m)\n\u001b[0;32m      4\u001b[0m \u001b[39m# nt_search(mainSequence, subSequence)\u001b[39;00m\n\u001b[1;32m----> 5\u001b[0m nt_search(\u001b[39mstr\u001b[39;49m(main_seq), \u001b[39mstr\u001b[39;49m(sub_seq))\n",
      "File \u001b[1;32mc:\\Python311\\Lib\\site-packages\\Bio\\SeqUtils\\__init__.py:291\u001b[0m, in \u001b[0;36mnt_search\u001b[1;34m(seq, subseq)\u001b[0m\n\u001b[0;32m    289\u001b[0m pattern \u001b[39m=\u001b[39m \u001b[39m\"\u001b[39m\u001b[39m\"\u001b[39m\n\u001b[0;32m    290\u001b[0m \u001b[39mfor\u001b[39;00m nt \u001b[39min\u001b[39;00m subseq:\n\u001b[1;32m--> 291\u001b[0m     value \u001b[39m=\u001b[39m IUPACData\u001b[39m.\u001b[39;49mambiguous_dna_values[nt]\n\u001b[0;32m    292\u001b[0m     \u001b[39mif\u001b[39;00m \u001b[39mlen\u001b[39m(value) \u001b[39m==\u001b[39m \u001b[39m1\u001b[39m:\n\u001b[0;32m    293\u001b[0m         pattern \u001b[39m+\u001b[39m\u001b[39m=\u001b[39m value\n",
      "\u001b[1;31mKeyError\u001b[0m: 'U'"
     ]
    }
   ],
   "source": [
    "main_seq = Seq('CGAUGAUGCUGA')\n",
    "sub_seq = Seq('AUG')\n",
    "\n",
    "# nt_search(mainSequence, subSequence)\n",
    "nt_search(str(main_seq), str(sub_seq))"
   ]
  }
 ],
 "metadata": {
  "kernelspec": {
   "display_name": "Python 3",
   "language": "python",
   "name": "python3"
  },
  "language_info": {
   "codemirror_mode": {
    "name": "ipython",
    "version": 3
   },
   "file_extension": ".py",
   "mimetype": "text/x-python",
   "name": "python",
   "nbconvert_exporter": "python",
   "pygments_lexer": "ipython3",
   "version": "3.11.4"
  },
  "orig_nbformat": 4
 },
 "nbformat": 4,
 "nbformat_minor": 2
}
